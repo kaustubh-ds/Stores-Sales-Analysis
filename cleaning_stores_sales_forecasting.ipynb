{
 "cells": [
  {
   "cell_type": "code",
   "execution_count": 1,
   "id": "b0020b15-3d75-4eb5-a4ca-09ff46ee2253",
   "metadata": {},
   "outputs": [],
   "source": [
    "import pandas as pd"
   ]
  },
  {
   "cell_type": "code",
   "execution_count": 2,
   "id": "60c5f535-fe11-4bdb-ba3b-37d04ae5a5c7",
   "metadata": {},
   "outputs": [],
   "source": [
    "df = pd.read_csv('data/stores_sales_forecasting.csv', encoding='ISO-8859-1')\n",
    "\n",
    "# Convert date column to consistent format\n",
    "df['Order Date'] = pd.to_datetime(df['Order Date'], dayfirst=False, errors='coerce')\n",
    "df['Order Date'] = df['Order Date'].dt.strftime('%Y-%m-%d')\n",
    "df['Ship Date'] = pd.to_datetime(df['Ship Date'], dayfirst=False, errors='coerce')\n",
    "df['Ship Date'] = df['Ship Date'].dt.strftime('%Y-%m-%d')\n",
    "\n",
    "# Save to new cleaned file\n",
    "df.to_csv('data/stores_sales_forecasting_utf8.csv', index=False, encoding='utf-8')"
   ]
  }
 ],
 "metadata": {
  "kernelspec": {
   "display_name": "Python 3",
   "language": "python",
   "name": "python3"
  },
  "language_info": {
   "codemirror_mode": {
    "name": "ipython",
    "version": 3
   },
   "file_extension": ".py",
   "mimetype": "text/x-python",
   "name": "python",
   "nbconvert_exporter": "python",
   "pygments_lexer": "ipython3",
   "version": "3.10.5"
  }
 },
 "nbformat": 4,
 "nbformat_minor": 5
}
